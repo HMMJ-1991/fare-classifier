{
 "cells": [
  {
   "cell_type": "code",
   "execution_count": 1,
   "metadata": {},
   "outputs": [],
   "source": [
    "from matplotlib import pyplot as plt\n",
    "# linear algebra\n",
    "import numpy as np \n",
    "\n",
    "# data processing\n",
    "import pandas as pd \n",
    "\n",
    "from sklearn.preprocessing import LabelEncoder\n",
    "from sklearn.preprocessing import StandardScaler\n",
    "from sklearn import svm\n",
    "\n",
    "#Import Gaussian Naive Bayes model\n",
    "from sklearn.naive_bayes import GaussianNB\n",
    "\n",
    "#Import Random Forest Model\n",
    "from sklearn.ensemble import RandomForestClassifier\n",
    "\n",
    "# csv file manipulation\n",
    "import csv"
   ]
  },
  {
   "cell_type": "code",
   "execution_count": 2,
   "metadata": {},
   "outputs": [],
   "source": [
    "# read training data \n",
    "df = pd.read_csv('./data/train.csv')\n",
    "\n",
    "# read testing data\n",
    "test_df = pd.read_csv('./data/test.csv')"
   ]
  },
  {
   "cell_type": "code",
   "execution_count": 3,
   "metadata": {},
   "outputs": [
    {
     "data": {
      "text/plain": [
       "tripid                       False\n",
       "additional_fare               True\n",
       "duration                      True\n",
       "meter_waiting                 True\n",
       "meter_waiting_fare            True\n",
       "meter_waiting_till_pickup     True\n",
       "pickup_time                  False\n",
       "drop_time                    False\n",
       "pick_lat                     False\n",
       "pick_lon                     False\n",
       "drop_lat                     False\n",
       "drop_lon                     False\n",
       "fare                          True\n",
       "label                        False\n",
       "dtype: bool"
      ]
     },
     "execution_count": 3,
     "metadata": {},
     "output_type": "execute_result"
    }
   ],
   "source": [
    "\n",
    "# check for columns with missing values \n",
    "df.isnull().any()\n",
    "\n"
   ]
  },
  {
   "cell_type": "code",
   "execution_count": 4,
   "metadata": {},
   "outputs": [],
   "source": [
    "# replace missing values with mean of the particular feature\n",
    "\n",
    "mean_additional_fare = df['additional_fare'].mean()\n",
    "# print(mean_additional_fare)\n",
    "mean_duration = df['duration'].mean()\n",
    "mean_waiting = df['meter_waiting'].mean()\n",
    "mean_waiting_fare = df['meter_waiting_fare'].mean()\n",
    "mean_meter_till_pickup = df['meter_waiting_till_pickup'].mean()\n",
    "mean_fare = df['fare'].mean()\n",
    "\n",
    "\n",
    "\n",
    "\n",
    "df['additional_fare'] = np.where(df['additional_fare'].isnull(), mean_additional_fare, df['additional_fare'])\n",
    "df['duration'] = np.where(df['duration'].isnull(), mean_duration, df['duration'])\n",
    "df['meter_waiting'] = np.where(df['meter_waiting'].isnull(), mean_waiting, df['meter_waiting'])\n",
    "df['meter_waiting_fare'] = np.where(df['meter_waiting_fare'].isnull(), mean_waiting_fare, df['meter_waiting_fare'])\n",
    "df['meter_waiting_till_pickup'] = np.where(df['meter_waiting_till_pickup'].isnull(),\n",
    "                                           mean_meter_till_pickup, df['meter_waiting_till_pickup'])\n",
    "df['fare'] = np.where(df['fare'].isnull(), mean_fare, df['fare'])"
   ]
  },
  {
   "cell_type": "code",
   "execution_count": 5,
   "metadata": {},
   "outputs": [
    {
     "name": "stdout",
     "output_type": "stream",
     "text": [
      "0\n"
     ]
    }
   ],
   "source": [
    "# remove records with missing durations\n",
    "# df = df.dropna(subset=['duration', 'fare'])\n",
    "# df['duration'] = np.where(df['duration'].isnull(), mean_duration, df['duration'])\n",
    "print(df['duration'].isnull().values.sum())\n",
    "\n",
    "# x = type(df['duration']) == type(None)\n",
    "# print(x)"
   ]
  },
  {
   "cell_type": "code",
   "execution_count": 6,
   "metadata": {},
   "outputs": [],
   "source": [
    "df['trip_duration'] = df['duration']- (df['meter_waiting_till_pickup'] + df['meter_waiting'])"
   ]
  },
  {
   "cell_type": "code",
   "execution_count": 7,
   "metadata": {},
   "outputs": [
    {
     "name": "stdout",
     "output_type": "stream",
     "text": [
      "0\n"
     ]
    }
   ],
   "source": [
    "print(df['trip_duration'].isnull().values.sum())"
   ]
  },
  {
   "cell_type": "code",
   "execution_count": 8,
   "metadata": {},
   "outputs": [
    {
     "name": "stdout",
     "output_type": "stream",
     "text": [
      "0\n"
     ]
    }
   ],
   "source": [
    "test_df['trip_duration'] = test_df['duration']- (test_df['meter_waiting_till_pickup'] + test_df['meter_waiting'])\n",
    "print(test_df['trip_duration'].isnull().values.sum())"
   ]
  },
  {
   "cell_type": "code",
   "execution_count": 9,
   "metadata": {},
   "outputs": [
    {
     "name": "stdout",
     "output_type": "stream",
     "text": [
      "0\n",
      "0\n"
     ]
    }
   ],
   "source": [
    "df['trip_fare'] = df['fare'] -  (df['additional_fare'] + df['meter_waiting_fare'])\n",
    "test_df['trip_fare'] = test_df['fare'] -  (test_df['additional_fare'] + test_df['meter_waiting_fare'])\n",
    "\n",
    "print(df['trip_fare'].isnull().values.sum())\n",
    "print(test_df['trip_fare'].isnull().values.sum())"
   ]
  },
  {
   "cell_type": "code",
   "execution_count": 10,
   "metadata": {},
   "outputs": [],
   "source": [
    "mean_trip_duration = df['trip_duration'].mean()\n",
    "mean_trip_fare = df['trip_fare'].mean()\n",
    "\n",
    "df['trip_duration'] = np.where(df['trip_duration'].isnull(), mean_fare, df['trip_duration'])\n",
    "df['trip_fare'] = np.where(df['trip_fare'].isnull(), mean_trip_fare, df['trip_fare'])"
   ]
  },
  {
   "cell_type": "code",
   "execution_count": 11,
   "metadata": {},
   "outputs": [],
   "source": [
    "#split into data and label\n",
    "Y = df['label'] # label set\n"
   ]
  },
  {
   "cell_type": "code",
   "execution_count": 12,
   "metadata": {},
   "outputs": [],
   "source": [
    "\n",
    "\n",
    "# date formatting \n",
    "# df[\"start_date\"] = pd.to_datetime(df[\"pickup_time\"],format='%m/%d/%Y %H:%M')\n",
    "# test_df[\"start_date\"] = pd.to_datetime(test_df[\"pickup_time\"],format='%m/%d/%Y %H:%M')\n",
    "\n",
    "\n",
    "# # get the day of the week of the trip pickup date\n",
    "# #Note that in Python Monday is 0 unlike Javascript style where Sunday is 0\n",
    "# df['day_of_week'] = df['start_date'].dt.weekday\n",
    "# test_df['day_of_week'] = test_df['start_date'].dt.weekday\n",
    "\n",
    "\n",
    "\n",
    "tripIds = test_df['tripid'] # separate tripid to use when the results are written back to the submission\n",
    "\n",
    "#remove attributes\n",
    "test_df = test_df.drop(columns=['tripid', 'pickup_time', 'drop_time'])\n",
    "\n",
    "X = df.drop(columns=['tripid', 'label', 'pickup_time', 'drop_time'])\n",
    "\n",
    "X_test = test_df\n",
    "\n"
   ]
  },
  {
   "cell_type": "code",
   "execution_count": 13,
   "metadata": {},
   "outputs": [],
   "source": [
    "#Feature Scaling\n",
    "sc = StandardScaler()\n",
    "X_train = sc.fit_transform(X)\n",
    "X_test = sc.transform(X_test)"
   ]
  },
  {
   "cell_type": "code",
   "execution_count": 14,
   "metadata": {},
   "outputs": [],
   "source": [
    "def write_output(Y_prediction):\n",
    "    with open('sampleSubmission.csv', 'w', newline='') as csvfile:\n",
    "        fieldnames = ['tripid', 'prediction']\n",
    "        writer = csv.DictWriter(csvfile, fieldnames=fieldnames)\n",
    "\n",
    "        writer.writeheader()\n",
    "        line = 0\n",
    "    \n",
    "        for w in Y_prediction:\n",
    "            output = 1\n",
    "            if (w == 'incorrect'):\n",
    "                output = 0\n",
    "            writer.writerow({'tripid': tripIds[line], 'prediction': output})\n",
    "            line = line+1\n"
   ]
  },
  {
   "cell_type": "code",
   "execution_count": 15,
   "metadata": {},
   "outputs": [],
   "source": [
    "\n",
    "\n",
    "def RFClassifier(X_train, y_train, X_test):\n",
    "   \n",
    "    #Create the Classifier\n",
    "    clf=RandomForestClassifier(n_estimators=100)\n",
    "\n",
    "    #Train the model using the training sets y_pred=clf.predict(X_test)\n",
    "    clf.fit(X_train,y_train)\n",
    "\n",
    "    y_pred=clf.predict(X_test)\n",
    "    \n",
    "    return y_pred\n",
    "    "
   ]
  },
  {
   "cell_type": "code",
   "execution_count": 16,
   "metadata": {},
   "outputs": [],
   "source": [
    "Y_pred = RFClassifier(X_train,Y, X_test)\n",
    "\n",
    "write_output(Y_pred)"
   ]
  },
  {
   "cell_type": "code",
   "execution_count": 12,
   "metadata": {},
   "outputs": [],
   "source": [
    "from sklearn.tree import DecisionTreeClassifier # Import Decision Tree Classifier\n",
    "\n",
    "def decision_tree(X_train, y_train, X_test):\n",
    "    # Create Decision Tree classifer object\n",
    "    clf = DecisionTreeClassifier()\n",
    "\n",
    "    # Train Decision Tree Classifer\n",
    "    clf = clf.fit(X_train,y_train)\n",
    "\n",
    "    #Predict the response for test dataset\n",
    "    y_pred = clf.predict(X_test)\n",
    "    \n",
    "    return y_pred\n",
    "\n",
    "tree_pred = decision_tree(X_train,Y, X_test)\n",
    "write_output(tree_pred)"
   ]
  },
  {
   "cell_type": "code",
   "execution_count": 32,
   "metadata": {},
   "outputs": [
    {
     "ename": "AttributeError",
     "evalue": "'numpy.ndarray' object has no attribute 'columns'",
     "output_type": "error",
     "traceback": [
      "\u001b[1;31m---------------------------------------------------------------------------\u001b[0m",
      "\u001b[1;31mAttributeError\u001b[0m                            Traceback (most recent call last)",
      "\u001b[1;32m<ipython-input-32-2625f76b8a6d>\u001b[0m in \u001b[0;36m<module>\u001b[1;34m()\u001b[0m\n\u001b[1;32m----> 1\u001b[1;33m \u001b[0mX_train\u001b[0m\u001b[1;33m.\u001b[0m\u001b[0mcolumns\u001b[0m\u001b[1;33m\u001b[0m\u001b[0m\n\u001b[0m",
      "\u001b[1;31mAttributeError\u001b[0m: 'numpy.ndarray' object has no attribute 'columns'"
     ]
    }
   ],
   "source": []
  },
  {
   "cell_type": "code",
   "execution_count": 36,
   "metadata": {},
   "outputs": [
    {
     "data": {
      "text/html": [
       "<div>\n",
       "<style scoped>\n",
       "    .dataframe tbody tr th:only-of-type {\n",
       "        vertical-align: middle;\n",
       "    }\n",
       "\n",
       "    .dataframe tbody tr th {\n",
       "        vertical-align: top;\n",
       "    }\n",
       "\n",
       "    .dataframe thead th {\n",
       "        text-align: right;\n",
       "    }\n",
       "</style>\n",
       "<table border=\"1\" class=\"dataframe\">\n",
       "  <thead>\n",
       "    <tr style=\"text-align: right;\">\n",
       "      <th></th>\n",
       "      <th>additional_fare</th>\n",
       "      <th>duration</th>\n",
       "      <th>meter_waiting</th>\n",
       "      <th>meter_waiting_fare</th>\n",
       "      <th>meter_waiting_till_pickup</th>\n",
       "      <th>pick_lat</th>\n",
       "      <th>pick_lon</th>\n",
       "      <th>drop_lat</th>\n",
       "      <th>drop_lon</th>\n",
       "      <th>fare</th>\n",
       "      <th>trip_duration</th>\n",
       "      <th>trip_fare</th>\n",
       "    </tr>\n",
       "  </thead>\n",
       "  <tbody>\n",
       "    <tr>\n",
       "      <th>0</th>\n",
       "      <td>10.500000</td>\n",
       "      <td>834.000000</td>\n",
       "      <td>56.000000</td>\n",
       "      <td>0.000000</td>\n",
       "      <td>64.000000</td>\n",
       "      <td>6.86252</td>\n",
       "      <td>79.8993</td>\n",
       "      <td>6.90330</td>\n",
       "      <td>79.8783</td>\n",
       "      <td>270.32</td>\n",
       "      <td>714.000000</td>\n",
       "      <td>259.820000</td>\n",
       "    </tr>\n",
       "    <tr>\n",
       "      <th>1</th>\n",
       "      <td>10.500000</td>\n",
       "      <td>791.000000</td>\n",
       "      <td>47.000000</td>\n",
       "      <td>0.000000</td>\n",
       "      <td>134.000000</td>\n",
       "      <td>6.88589</td>\n",
       "      <td>79.8984</td>\n",
       "      <td>6.91373</td>\n",
       "      <td>79.8923</td>\n",
       "      <td>197.85</td>\n",
       "      <td>610.000000</td>\n",
       "      <td>187.350000</td>\n",
       "    </tr>\n",
       "    <tr>\n",
       "      <th>2</th>\n",
       "      <td>10.500000</td>\n",
       "      <td>1087.000000</td>\n",
       "      <td>80.000000</td>\n",
       "      <td>0.000000</td>\n",
       "      <td>61.000000</td>\n",
       "      <td>6.90839</td>\n",
       "      <td>79.8651</td>\n",
       "      <td>6.93669</td>\n",
       "      <td>79.9146</td>\n",
       "      <td>301.64</td>\n",
       "      <td>946.000000</td>\n",
       "      <td>291.140000</td>\n",
       "    </tr>\n",
       "    <tr>\n",
       "      <th>3</th>\n",
       "      <td>10.500000</td>\n",
       "      <td>598.000000</td>\n",
       "      <td>271.000000</td>\n",
       "      <td>15.663800</td>\n",
       "      <td>68.000000</td>\n",
       "      <td>6.92570</td>\n",
       "      <td>79.8895</td>\n",
       "      <td>6.92748</td>\n",
       "      <td>79.8971</td>\n",
       "      <td>82.30</td>\n",
       "      <td>259.000000</td>\n",
       "      <td>56.136200</td>\n",
       "    </tr>\n",
       "    <tr>\n",
       "      <th>4</th>\n",
       "      <td>13.719651</td>\n",
       "      <td>1702.858077</td>\n",
       "      <td>629.074231</td>\n",
       "      <td>32.057666</td>\n",
       "      <td>112.466832</td>\n",
       "      <td>6.87441</td>\n",
       "      <td>79.8615</td>\n",
       "      <td>6.84478</td>\n",
       "      <td>79.9290</td>\n",
       "      <td>358.39</td>\n",
       "      <td>961.317014</td>\n",
       "      <td>312.612684</td>\n",
       "    </tr>\n",
       "  </tbody>\n",
       "</table>\n",
       "</div>"
      ],
      "text/plain": [
       "   additional_fare     duration  meter_waiting  meter_waiting_fare  \\\n",
       "0        10.500000   834.000000      56.000000            0.000000   \n",
       "1        10.500000   791.000000      47.000000            0.000000   \n",
       "2        10.500000  1087.000000      80.000000            0.000000   \n",
       "3        10.500000   598.000000     271.000000           15.663800   \n",
       "4        13.719651  1702.858077     629.074231           32.057666   \n",
       "\n",
       "   meter_waiting_till_pickup  pick_lat  pick_lon  drop_lat  drop_lon    fare  \\\n",
       "0                  64.000000   6.86252   79.8993   6.90330   79.8783  270.32   \n",
       "1                 134.000000   6.88589   79.8984   6.91373   79.8923  197.85   \n",
       "2                  61.000000   6.90839   79.8651   6.93669   79.9146  301.64   \n",
       "3                  68.000000   6.92570   79.8895   6.92748   79.8971   82.30   \n",
       "4                 112.466832   6.87441   79.8615   6.84478   79.9290  358.39   \n",
       "\n",
       "   trip_duration   trip_fare  \n",
       "0     714.000000  259.820000  \n",
       "1     610.000000  187.350000  \n",
       "2     946.000000  291.140000  \n",
       "3     259.000000   56.136200  \n",
       "4     961.317014  312.612684  "
      ]
     },
     "execution_count": 36,
     "metadata": {},
     "output_type": "execute_result"
    }
   ],
   "source": [
    "X.head()"
   ]
  },
  {
   "cell_type": "code",
   "execution_count": 37,
   "metadata": {},
   "outputs": [
    {
     "data": {
      "text/html": [
       "<div>\n",
       "<style scoped>\n",
       "    .dataframe tbody tr th:only-of-type {\n",
       "        vertical-align: middle;\n",
       "    }\n",
       "\n",
       "    .dataframe tbody tr th {\n",
       "        vertical-align: top;\n",
       "    }\n",
       "\n",
       "    .dataframe thead th {\n",
       "        text-align: right;\n",
       "    }\n",
       "</style>\n",
       "<table border=\"1\" class=\"dataframe\">\n",
       "  <thead>\n",
       "    <tr style=\"text-align: right;\">\n",
       "      <th></th>\n",
       "      <th>additional_fare</th>\n",
       "      <th>duration</th>\n",
       "      <th>meter_waiting</th>\n",
       "      <th>meter_waiting_fare</th>\n",
       "      <th>meter_waiting_till_pickup</th>\n",
       "      <th>pick_lat</th>\n",
       "      <th>pick_lon</th>\n",
       "      <th>drop_lat</th>\n",
       "      <th>drop_lon</th>\n",
       "      <th>fare</th>\n",
       "      <th>trip_duration</th>\n",
       "      <th>trip_fair</th>\n",
       "      <th>trip_fare</th>\n",
       "    </tr>\n",
       "  </thead>\n",
       "  <tbody>\n",
       "    <tr>\n",
       "      <th>0</th>\n",
       "      <td>10.5</td>\n",
       "      <td>924</td>\n",
       "      <td>42</td>\n",
       "      <td>2.4486</td>\n",
       "      <td>148</td>\n",
       "      <td>6.83454</td>\n",
       "      <td>79.8750</td>\n",
       "      <td>6.77490</td>\n",
       "      <td>79.8840</td>\n",
       "      <td>289.27</td>\n",
       "      <td>734</td>\n",
       "      <td>276.3214</td>\n",
       "      <td>276.3214</td>\n",
       "    </tr>\n",
       "    <tr>\n",
       "      <th>1</th>\n",
       "      <td>10.5</td>\n",
       "      <td>4249</td>\n",
       "      <td>20</td>\n",
       "      <td>0.0000</td>\n",
       "      <td>91</td>\n",
       "      <td>6.91168</td>\n",
       "      <td>79.8723</td>\n",
       "      <td>6.55091</td>\n",
       "      <td>79.9706</td>\n",
       "      <td>1912.70</td>\n",
       "      <td>4138</td>\n",
       "      <td>1902.2000</td>\n",
       "      <td>1902.2000</td>\n",
       "    </tr>\n",
       "    <tr>\n",
       "      <th>2</th>\n",
       "      <td>10.5</td>\n",
       "      <td>1552</td>\n",
       "      <td>255</td>\n",
       "      <td>2.6588</td>\n",
       "      <td>23</td>\n",
       "      <td>6.92145</td>\n",
       "      <td>79.8478</td>\n",
       "      <td>6.90539</td>\n",
       "      <td>79.8989</td>\n",
       "      <td>394.00</td>\n",
       "      <td>1274</td>\n",
       "      <td>380.8412</td>\n",
       "      <td>380.8412</td>\n",
       "    </tr>\n",
       "    <tr>\n",
       "      <th>3</th>\n",
       "      <td>10.5</td>\n",
       "      <td>462</td>\n",
       "      <td>16</td>\n",
       "      <td>0.0000</td>\n",
       "      <td>198</td>\n",
       "      <td>6.77433</td>\n",
       "      <td>79.9416</td>\n",
       "      <td>6.80401</td>\n",
       "      <td>79.9407</td>\n",
       "      <td>154.32</td>\n",
       "      <td>248</td>\n",
       "      <td>143.8200</td>\n",
       "      <td>143.8200</td>\n",
       "    </tr>\n",
       "    <tr>\n",
       "      <th>4</th>\n",
       "      <td>10.5</td>\n",
       "      <td>814</td>\n",
       "      <td>392</td>\n",
       "      <td>12.3692</td>\n",
       "      <td>69</td>\n",
       "      <td>6.97968</td>\n",
       "      <td>79.9130</td>\n",
       "      <td>6.98875</td>\n",
       "      <td>79.8914</td>\n",
       "      <td>147.47</td>\n",
       "      <td>353</td>\n",
       "      <td>124.6008</td>\n",
       "      <td>124.6008</td>\n",
       "    </tr>\n",
       "  </tbody>\n",
       "</table>\n",
       "</div>"
      ],
      "text/plain": [
       "   additional_fare  duration  meter_waiting  meter_waiting_fare  \\\n",
       "0             10.5       924             42              2.4486   \n",
       "1             10.5      4249             20              0.0000   \n",
       "2             10.5      1552            255              2.6588   \n",
       "3             10.5       462             16              0.0000   \n",
       "4             10.5       814            392             12.3692   \n",
       "\n",
       "   meter_waiting_till_pickup  pick_lat  pick_lon  drop_lat  drop_lon     fare  \\\n",
       "0                        148   6.83454   79.8750   6.77490   79.8840   289.27   \n",
       "1                         91   6.91168   79.8723   6.55091   79.9706  1912.70   \n",
       "2                         23   6.92145   79.8478   6.90539   79.8989   394.00   \n",
       "3                        198   6.77433   79.9416   6.80401   79.9407   154.32   \n",
       "4                         69   6.97968   79.9130   6.98875   79.8914   147.47   \n",
       "\n",
       "   trip_duration  trip_fair  trip_fare  \n",
       "0            734   276.3214   276.3214  \n",
       "1           4138  1902.2000  1902.2000  \n",
       "2           1274   380.8412   380.8412  \n",
       "3            248   143.8200   143.8200  \n",
       "4            353   124.6008   124.6008  "
      ]
     },
     "execution_count": 37,
     "metadata": {},
     "output_type": "execute_result"
    }
   ],
   "source": [
    "X_test.head()"
   ]
  },
  {
   "cell_type": "code",
   "execution_count": 7,
   "metadata": {},
   "outputs": [
    {
     "name": "stdout",
     "output_type": "stream",
     "text": [
      "<class 'NoneType'>\n"
     ]
    }
   ],
   "source": [
    "df['duration'].isnull().values.sum()\n",
    "print(type(None))"
   ]
  }
 ],
 "metadata": {
  "kernelspec": {
   "display_name": "Python 3",
   "language": "python",
   "name": "python3"
  },
  "language_info": {
   "codemirror_mode": {
    "name": "ipython",
    "version": 3
   },
   "file_extension": ".py",
   "mimetype": "text/x-python",
   "name": "python",
   "nbconvert_exporter": "python",
   "pygments_lexer": "ipython3",
   "version": "3.6.4"
  }
 },
 "nbformat": 4,
 "nbformat_minor": 2
}
