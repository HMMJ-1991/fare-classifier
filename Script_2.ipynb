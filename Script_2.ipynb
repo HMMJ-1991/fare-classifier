{
 "cells": [
  {
   "cell_type": "code",
   "execution_count": 1,
   "metadata": {},
   "outputs": [],
   "source": [
    "from matplotlib import pyplot as plt\n",
    "# linear algebra\n",
    "import numpy as np \n",
    "\n",
    "# data processing\n",
    "import pandas as pd \n",
    "\n",
    "from sklearn.preprocessing import LabelEncoder\n",
    "from sklearn.preprocessing import StandardScaler\n",
    "from sklearn import svm\n",
    "\n",
    "#Import Gaussian Naive Bayes model\n",
    "from sklearn.naive_bayes import GaussianNB\n",
    "\n",
    "# csv file manipulation\n",
    "import csv"
   ]
  },
  {
   "cell_type": "code",
   "execution_count": 2,
   "metadata": {},
   "outputs": [],
   "source": [
    "# read training data \n",
    "df = pd.read_csv('./data/train.csv')\n",
    "\n",
    "# read testing data\n",
    "test_df = pd.read_csv('./data/test.csv')"
   ]
  },
  {
   "cell_type": "code",
   "execution_count": 3,
   "metadata": {},
   "outputs": [
    {
     "name": "stdout",
     "output_type": "stream",
     "text": [
      "0\n"
     ]
    }
   ],
   "source": [
    "# remove records with missing durations\n",
    "df = df.dropna(subset=['duration', 'fare'])\n",
    "print(df['duration'].isnull().values.sum())"
   ]
  },
  {
   "cell_type": "code",
   "execution_count": 4,
   "metadata": {},
   "outputs": [],
   "source": [
    "#split into data and label\n",
    "Y = df['label']\n",
    "X = df.drop(columns=['tripid', 'label', 'pickup_time', 'drop_time'])\n",
    "\n",
    "# print(X.head())\n",
    "# encode the labels of training data\n",
    "# labelencoder_Y = LabelEncoder()\n",
    "# Y = labelencoder_Y.fit_transform(Y)"
   ]
  },
  {
   "cell_type": "code",
   "execution_count": 5,
   "metadata": {},
   "outputs": [],
   "source": [
    "tripIds = test_df['tripid']\n",
    "\n",
    "test_df = test_df.drop(columns=['tripid', 'pickup_time', 'drop_time' ])\n",
    "\n",
    "X_test = test_df\n",
    "# X_test = X_test.drop(columns=[ ])"
   ]
  },
  {
   "cell_type": "code",
   "execution_count": 6,
   "metadata": {},
   "outputs": [],
   "source": [
    "#Feature Scaling\n",
    "sc = StandardScaler()\n",
    "X_train = sc.fit_transform(X)\n",
    "X_test = sc.transform(X_test)\n",
    "\n",
    "\n",
    "SVMclassifier = svm.SVC(kernel='linear') # Linear Kernel\n",
    "    \n",
    "# #Train the model using the training sets\n",
    "SVMclassifier.fit(X_train, Y)\n",
    " \n",
    "# # carry out testing\n",
    "Y_pred = SVMclassifier.predict(X_test)\n"
   ]
  },
  {
   "cell_type": "code",
   "execution_count": 7,
   "metadata": {},
   "outputs": [],
   "source": [
    "def write_output(Y_prediction):\n",
    "    with open('sampleSubmission.csv', 'w', newline='') as csvfile:\n",
    "        fieldnames = ['tripid', 'prediction']\n",
    "        writer = csv.DictWriter(csvfile, fieldnames=fieldnames)\n",
    "\n",
    "        writer.writeheader()\n",
    "        line = 0\n",
    "    \n",
    "        for w in Y_prediction:\n",
    "            output = 1\n",
    "            if (w == 'incorrect'):\n",
    "                output = 0\n",
    "            writer.writerow({'tripid': tripIds[line], 'prediction': output})\n",
    "            line = line+1\n",
    "\n"
   ]
  },
  {
   "cell_type": "code",
   "execution_count": 8,
   "metadata": {},
   "outputs": [],
   "source": []
  },
  {
   "cell_type": "code",
   "execution_count": 21,
   "metadata": {},
   "outputs": [],
   "source": [
    "#Create a Gaussian Classifier\n",
    "model = GaussianNB()\n",
    "\n",
    "# Train the model using the training sets\n",
    "model.fit(X_train,Y)\n",
    "\n",
    "#Predict Output\n",
    "predicted= model.predict(X_test) # 0:Overcast, 2:Mild\n"
   ]
  },
  {
   "cell_type": "code",
   "execution_count": 26,
   "metadata": {},
   "outputs": [],
   "source": [
    "write_output(predicted) "
   ]
  },
  {
   "cell_type": "code",
   "execution_count": 9,
   "metadata": {},
   "outputs": [
    {
     "data": {
      "text/plain": [
       "213606719"
      ]
     },
     "execution_count": 9,
     "metadata": {},
     "output_type": "execute_result"
    }
   ],
   "source": [
    "213606719"
   ]
  },
  {
   "cell_type": "code",
   "execution_count": 10,
   "metadata": {},
   "outputs": [],
   "source": [
    "write_output(Y_pred) "
   ]
  }
 ],
 "metadata": {
  "kernelspec": {
   "display_name": "Python 3",
   "language": "python",
   "name": "python3"
  },
  "language_info": {
   "codemirror_mode": {
    "name": "ipython",
    "version": 3
   },
   "file_extension": ".py",
   "mimetype": "text/x-python",
   "name": "python",
   "nbconvert_exporter": "python",
   "pygments_lexer": "ipython3",
   "version": "3.6.4"
  }
 },
 "nbformat": 4,
 "nbformat_minor": 2
}
