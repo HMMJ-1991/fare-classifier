{
 "cells": [
  {
   "cell_type": "code",
   "execution_count": 1,
   "metadata": {},
   "outputs": [],
   "source": [
    "from matplotlib import pyplot as plt\n",
    "# linear algebra\n",
    "import numpy as np \n",
    "\n",
    "# data processing\n",
    "import pandas as pd \n",
    "\n",
    "from sklearn.preprocessing import LabelEncoder\n",
    "from sklearn.preprocessing import StandardScaler\n",
    "from sklearn import svm\n",
    "\n",
    "#Import Gaussian Naive Bayes model\n",
    "from sklearn.naive_bayes import GaussianNB\n",
    "\n",
    "#Import Random Forest Model\n",
    "from sklearn.ensemble import RandomForestClassifier\n",
    "\n",
    "# csv file manipulation\n",
    "import csv"
   ]
  },
  {
   "cell_type": "code",
   "execution_count": 2,
   "metadata": {},
   "outputs": [],
   "source": [
    "# read training data \n",
    "df = pd.read_csv('./data/train.csv')\n",
    "\n",
    "# read testing data\n",
    "test_df = pd.read_csv('./data/test.csv')"
   ]
  },
  {
   "cell_type": "code",
   "execution_count": 3,
   "metadata": {},
   "outputs": [
    {
     "data": {
      "text/plain": [
       "tripid                       False\n",
       "additional_fare               True\n",
       "duration                      True\n",
       "meter_waiting                 True\n",
       "meter_waiting_fare            True\n",
       "meter_waiting_till_pickup     True\n",
       "pickup_time                  False\n",
       "drop_time                    False\n",
       "pick_lat                     False\n",
       "pick_lon                     False\n",
       "drop_lat                     False\n",
       "drop_lon                     False\n",
       "fare                          True\n",
       "label                        False\n",
       "dtype: bool"
      ]
     },
     "execution_count": 3,
     "metadata": {},
     "output_type": "execute_result"
    }
   ],
   "source": [
    "\n",
    "# check for columns with missing values \n",
    "df.isnull().any()\n",
    "\n"
   ]
  },
  {
   "cell_type": "code",
   "execution_count": 6,
   "metadata": {},
   "outputs": [
    {
     "name": "stdout",
     "output_type": "stream",
     "text": [
      "0\n"
     ]
    }
   ],
   "source": [
    "df = df.dropna(subset=['duration', 'fare'])\n",
    "print(df['duration'].isnull().values.sum())"
   ]
  },
  {
   "cell_type": "code",
   "execution_count": 8,
   "metadata": {},
   "outputs": [],
   "source": [
    "df['trip_duration'] = df['duration']- (df['meter_waiting_till_pickup'] + df['meter_waiting'])"
   ]
  },
  {
   "cell_type": "code",
   "execution_count": 9,
   "metadata": {},
   "outputs": [],
   "source": [
    "test_df['trip_duration'] = test_df['duration']- (test_df['meter_waiting_till_pickup'] + test_df['meter_waiting'])"
   ]
  },
  {
   "cell_type": "code",
   "execution_count": 10,
   "metadata": {},
   "outputs": [],
   "source": [
    "df['trip_fare'] = df['fare'] -  (df['additional_fare'] + df['meter_waiting_fare'])\n",
    "test_df['trip_fare'] = test_df['fare'] -  (test_df['additional_fare'] + test_df['meter_waiting_fare'])\n"
   ]
  },
  {
   "cell_type": "code",
   "execution_count": 11,
   "metadata": {},
   "outputs": [],
   "source": [
    "\n",
    "#split into data and label\n",
    "Y = df['label'] # label set\n"
   ]
  },
  {
   "cell_type": "code",
   "execution_count": 12,
   "metadata": {},
   "outputs": [],
   "source": [
    "\n",
    "\n",
    "tripIds = test_df['tripid'] # separate tripid to use when the results are written back to the submission\n",
    "\n",
    "#remove attributes\n",
    "test_df = test_df.drop(columns=['tripid', 'pickup_time', 'drop_time'])\n",
    "\n",
    "X = df.drop(columns=['tripid', 'label', 'pickup_time', 'drop_time'])\n",
    "\n",
    "X_test = test_df\n",
    "\n"
   ]
  },
  {
   "cell_type": "code",
   "execution_count": 13,
   "metadata": {},
   "outputs": [],
   "source": [
    "#Feature Scaling\n",
    "sc = StandardScaler()\n",
    "X_train = sc.fit_transform(X)\n",
    "X_test = sc.transform(X_test)"
   ]
  },
  {
   "cell_type": "code",
   "execution_count": 14,
   "metadata": {},
   "outputs": [],
   "source": [
    "\n",
    "\n",
    "def RFClassifier(X_train, y_train, X_test):\n",
    "   \n",
    "    #Create the Classifier\n",
    "    clf=RandomForestClassifier(n_estimators=100)\n",
    "\n",
    "    #Train the model using the training sets y_pred=clf.predict(X_test)\n",
    "    clf.fit(X_train,y_train)\n",
    "\n",
    "    y_pred=clf.predict(X_test)\n",
    "    \n",
    "    return y_pred\n",
    "    "
   ]
  },
  {
   "cell_type": "code",
   "execution_count": 15,
   "metadata": {},
   "outputs": [],
   "source": [
    "Y_pred = RFClassifier(X_train,Y, X_test)"
   ]
  },
  {
   "cell_type": "code",
   "execution_count": 16,
   "metadata": {},
   "outputs": [],
   "source": [
    "def write_output(Y_prediction):\n",
    "    with open('sampleSubmission.csv', 'w', newline='') as csvfile:\n",
    "        fieldnames = ['tripid', 'prediction']\n",
    "        writer = csv.DictWriter(csvfile, fieldnames=fieldnames)\n",
    "\n",
    "        writer.writeheader()\n",
    "        line = 0\n",
    "    \n",
    "        for w in Y_prediction:\n",
    "            output = 1\n",
    "            if (w == 'incorrect'):\n",
    "                output = 0\n",
    "            writer.writerow({'tripid': tripIds[line], 'prediction': output})\n",
    "            line = line+1\n"
   ]
  },
  {
   "cell_type": "code",
   "execution_count": null,
   "metadata": {},
   "outputs": [],
   "source": [
    "write_output(tree_pred)"
   ]
  }
 ],
 "metadata": {
  "kernelspec": {
   "display_name": "Python 3",
   "language": "python",
   "name": "python3"
  },
  "language_info": {
   "codemirror_mode": {
    "name": "ipython",
    "version": 3
   },
   "file_extension": ".py",
   "mimetype": "text/x-python",
   "name": "python",
   "nbconvert_exporter": "python",
   "pygments_lexer": "ipython3",
   "version": "3.6.4"
  }
 },
 "nbformat": 4,
 "nbformat_minor": 2
}
