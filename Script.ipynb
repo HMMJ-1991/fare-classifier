{
 "cells": [
  {
   "cell_type": "code",
   "execution_count": 1,
   "metadata": {},
   "outputs": [],
   "source": [
    "from matplotlib import pyplot as plt\n",
    "# linear algebra\n",
    "import numpy as np \n",
    "\n",
    "# data processing\n",
    "import pandas as pd "
   ]
  },
  {
   "cell_type": "code",
   "execution_count": 18,
   "metadata": {},
   "outputs": [
    {
     "name": "stdout",
     "output_type": "stream",
     "text": [
      "Index(['tripid', 'additional_fare', 'duration', 'meter_waiting',\n",
      "       'meter_waiting_fare', 'meter_waiting_till_pickup', 'pickup_time',\n",
      "       'drop_time', 'pick_lat', 'pick_lon', 'drop_lat', 'drop_lon', 'fare',\n",
      "       'label'],\n",
      "      dtype='object')\n"
     ]
    }
   ],
   "source": [
    "# read training data \n",
    "df = pd.read_csv('./data/train.csv')\n",
    "\n",
    "print(df.columns)"
   ]
  },
  {
   "cell_type": "code",
   "execution_count": 8,
   "metadata": {},
   "outputs": [],
   "source": [
    "df['trip_duration'] = df['duration']- (df['meter_waiting_till_pickup'] + df['meter_waiting'])"
   ]
  },
  {
   "cell_type": "code",
   "execution_count": 20,
   "metadata": {},
   "outputs": [
    {
     "name": "stdout",
     "output_type": "stream",
     "text": [
      "True\n"
     ]
    }
   ],
   "source": [
    "# print(df['duration'])\n",
    "print(df['duration'].isnull().values.any())"
   ]
  },
  {
   "cell_type": "code",
   "execution_count": 13,
   "metadata": {},
   "outputs": [
    {
     "data": {
      "text/plain": [
       "<bound method NDFrame.head of           tripid  additional_fare  duration  meter_waiting  \\\n",
       "0      189123628             10.5     834.0           56.0   \n",
       "1      189125358             10.5     791.0           47.0   \n",
       "2      189125719             10.5    1087.0           80.0   \n",
       "3      189127273             10.5     598.0          271.0   \n",
       "4      189128020              NaN       NaN            NaN   \n",
       "5      189129552             10.5    3407.0          182.0   \n",
       "6      189132829             10.5    1246.0          487.0   \n",
       "7      189135103             10.5    1333.0          295.0   \n",
       "8      189139296             10.5     360.0           80.0   \n",
       "9      189138671             10.5    1539.0          588.0   \n",
       "10     189135814             10.5      26.0           19.0   \n",
       "11     189140969             10.5      31.0           20.0   \n",
       "12     189144528             10.5    2011.0          199.0   \n",
       "13     189147041             10.5    1260.0           30.0   \n",
       "14     189145904             10.5     335.0           10.0   \n",
       "15     189146174             10.5    4221.0         1608.0   \n",
       "16     189150541             10.5    1472.0          219.0   \n",
       "17     189153229             10.5     284.0            0.0   \n",
       "18     189151585             10.5    2435.0          381.0   \n",
       "19     189157464             10.5     891.0          170.0   \n",
       "20     189157607             10.5    2956.0         1686.0   \n",
       "21     189157476             10.5    3176.0          390.0   \n",
       "22     189157559             10.5     693.0          280.0   \n",
       "23     189159951              5.0     850.0          143.0   \n",
       "24     189158726             10.5    1443.0           59.0   \n",
       "25     189160756             10.5     358.0           66.0   \n",
       "26     189161377             10.5     644.0          638.0   \n",
       "27     189163162             10.5     618.0          128.0   \n",
       "28     189164454             10.5    1407.0          210.0   \n",
       "29     189164880             10.5     575.0           23.0   \n",
       "...          ...              ...       ...            ...   \n",
       "17146  213747503             10.5    2417.0          183.0   \n",
       "17147  213751620              5.0     179.0            2.0   \n",
       "17148  213749432             10.5    1184.0          219.0   \n",
       "17149  213754172             10.5    1049.0            5.0   \n",
       "17150  213758346              NaN       NaN            NaN   \n",
       "17151  213759061             10.5     413.0           11.0   \n",
       "17152  213761623             10.5    2905.0          389.0   \n",
       "17153  213776255              5.0     358.0           30.0   \n",
       "17154  213774316             10.5     451.0           83.0   \n",
       "17155  213774593             10.5    1155.0          100.0   \n",
       "17156  213775846             10.5     965.0          374.0   \n",
       "17157  213774642             10.5     649.0           34.0   \n",
       "17158  213774742             10.5     485.0           74.0   \n",
       "17159  213779882             10.5     995.0          248.0   \n",
       "17160  213782178             10.5     685.0           32.0   \n",
       "17161  213782382             10.5    1326.0           20.0   \n",
       "17162  213784559             10.5    1125.0           85.0   \n",
       "17163  213784596             10.5     831.0           27.0   \n",
       "17164  213787716             10.5     733.0           43.0   \n",
       "17165  213789771             30.5    1009.0          178.0   \n",
       "17166  213795752             40.5    1859.0         1856.0   \n",
       "17167  213799350             10.5     801.0            7.0   \n",
       "17168  213800748             10.5     500.0          117.0   \n",
       "17169  213802197             10.5    2747.0          230.0   \n",
       "17170  213802222             10.5     400.0           95.0   \n",
       "17171  213803193             10.5     838.0           93.0   \n",
       "17172  213812756             10.5    2151.0          428.0   \n",
       "17173  213813930             10.5     263.0            9.0   \n",
       "17174  213815405             10.5     858.0          115.0   \n",
       "17175  213817296             10.5     262.0           21.0   \n",
       "\n",
       "       meter_waiting_fare  meter_waiting_till_pickup      pickup_time  \\\n",
       "0                0.000000                       64.0   11/1/2019 0:20   \n",
       "1                0.000000                      134.0   11/1/2019 0:56   \n",
       "2                0.000000                       61.0   11/1/2019 1:08   \n",
       "3               15.663800                       68.0   11/1/2019 2:27   \n",
       "4                     NaN                        NaN   11/1/2019 3:34   \n",
       "5                0.000000                      112.0   11/1/2019 5:38   \n",
       "6                0.000000                      133.0   11/1/2019 6:29   \n",
       "7               17.198500                      212.0   11/1/2019 6:50   \n",
       "8                4.664000                        3.0   11/1/2019 7:00   \n",
       "9               33.986400                       43.0   11/1/2019 7:02   \n",
       "10               0.000000                       73.0   11/1/2019 7:27   \n",
       "11               0.000000                      130.0   11/1/2019 7:42   \n",
       "12               0.000000                      165.0   11/1/2019 7:44   \n",
       "13               0.000000                        9.0   11/1/2019 7:44   \n",
       "14               0.583000                       17.0   11/1/2019 7:45   \n",
       "15              84.214600                       72.0   11/1/2019 7:48   \n",
       "16              12.699976                      413.0   11/1/2019 8:14   \n",
       "17               0.000000                       82.0   11/1/2019 8:17   \n",
       "18               0.000000                      186.0   11/1/2019 8:23   \n",
       "19               0.000000                       57.0   11/1/2019 8:39   \n",
       "20              97.450800                       29.0   11/1/2019 8:40   \n",
       "21               0.000000                      269.0   11/1/2019 8:41   \n",
       "22               9.883800                      318.0   11/1/2019 8:41   \n",
       "23               8.336900                        0.0   11/1/2019 8:43   \n",
       "24               0.000000                      173.0   11/1/2019 8:48   \n",
       "25               0.000000                       79.0   11/1/2019 8:51   \n",
       "26              14.796800                      108.0   11/1/2019 8:54   \n",
       "27               7.398400                      126.0   11/1/2019 9:12   \n",
       "28               0.000000                       62.0   11/1/2019 9:15   \n",
       "29               0.000000                       66.0   11/1/2019 9:16   \n",
       "...                   ...                        ...              ...   \n",
       "17146           10.577400                       70.0  1/31/2020 19:17   \n",
       "17147            0.116600                        0.0  1/31/2020 19:21   \n",
       "17148           12.658200                       12.0  1/31/2020 19:23   \n",
       "17149            0.000000                      239.0  1/31/2020 19:35   \n",
       "17150                 NaN                        NaN  1/31/2020 19:42   \n",
       "17151            0.000000                       59.0  1/31/2020 19:44   \n",
       "17152           22.484200                       92.0  1/31/2020 20:04   \n",
       "17153            1.749000                        0.0  1/31/2020 20:19   \n",
       "17154            4.838900                      182.0  1/31/2020 20:21   \n",
       "17155            0.000000                      142.0  1/31/2020 20:22   \n",
       "17156           21.804200                       35.0  1/31/2020 20:25   \n",
       "17157            1.971977                      233.0  1/31/2020 20:26   \n",
       "17158            0.000000                      210.0  1/31/2020 20:27   \n",
       "17159           14.365427                       36.0  1/31/2020 20:39   \n",
       "17160            0.000000                       32.0  1/31/2020 20:40   \n",
       "17161            1.156000                      113.0  1/31/2020 20:43   \n",
       "17162            0.000000                       41.0  1/31/2020 20:43   \n",
       "17163            0.000000                      133.0  1/31/2020 20:47   \n",
       "17164            0.000000                       39.0  1/31/2020 20:56   \n",
       "17165            0.000000                       75.0  1/31/2020 21:00   \n",
       "17166          108.204800                      298.0  1/31/2020 21:22   \n",
       "17167            0.000000                      101.0  1/31/2020 21:36   \n",
       "17168            0.000000                       10.0  1/31/2020 21:53   \n",
       "17169           13.294000                      287.0  1/31/2020 21:56   \n",
       "17170            0.000000                      113.0  1/31/2020 21:59   \n",
       "17171            5.421900                      451.0  1/31/2020 22:07   \n",
       "17172            0.000000                       39.0  1/31/2020 23:07   \n",
       "17173            0.000000                      110.0  1/31/2020 23:21   \n",
       "17174            0.000000                      317.0  1/31/2020 23:39   \n",
       "17175            1.224300                       23.0  1/31/2020 23:49   \n",
       "\n",
       "             drop_time  pick_lat  pick_lon  drop_lat  drop_lon     fare  \\\n",
       "0       11/1/2019 0:34   6.86252   79.8993   6.90330   79.8783   270.32   \n",
       "1       11/1/2019 1:09   6.88589   79.8984   6.91373   79.8923   197.85   \n",
       "2       11/1/2019 1:26   6.90839   79.8651   6.93669   79.9146   301.64   \n",
       "3       11/1/2019 2:37   6.92570   79.8895   6.92748   79.8971    82.30   \n",
       "4       11/1/2019 3:51   6.87441   79.8615   6.84478   79.9290   358.39   \n",
       "5       11/1/2019 6:35   7.13402   79.8969   6.91865   79.8649  1065.02   \n",
       "6       11/1/2019 6:49   6.84371   79.9051   6.85069   79.8624   266.62   \n",
       "7       11/1/2019 7:12   6.90760   79.9524   6.90634   79.9042   318.05   \n",
       "8       11/1/2019 7:06   7.26706   80.6064   7.27422   80.6124   100.32   \n",
       "9       11/1/2019 7:28   6.85137   79.9537   6.84779   79.9274   257.89   \n",
       "10      11/1/2019 7:27   7.00355   79.8819   7.13279   79.8868   694.37   \n",
       "11      11/1/2019 7:42   6.90871   79.8978   6.91368   79.8572   235.59   \n",
       "12      11/1/2019 8:17   6.82278   79.9527   6.87241   79.8835   452.39   \n",
       "13      11/1/2019 8:05   7.12626   79.9817   7.12290   79.9687   111.21   \n",
       "14      11/1/2019 7:51   6.85268   79.8631   6.86560   79.8640   126.87   \n",
       "15      11/1/2019 8:58   6.97132   79.9606   6.93615   79.8470   672.87   \n",
       "16      11/1/2019 8:38   7.11422   80.0033   7.10365   80.0485   305.22   \n",
       "17      11/1/2019 8:21   7.29860   80.6266   7.29507   80.6375    95.31   \n",
       "18      11/1/2019 9:04   6.79589   79.8916   6.88183   79.8666   461.25   \n",
       "19      11/1/2019 8:54   6.80125   79.9007   6.82305   79.8952   226.54   \n",
       "20      11/1/2019 9:21   6.92109   79.8547   6.94120   79.8588      NaN   \n",
       "21      11/1/2019 9:34   6.79325   79.9257   6.92526   79.8520   692.75   \n",
       "22      11/1/2019 8:51   6.91718   79.8656   6.90640   79.8793   109.36   \n",
       "23      11/1/2019 8:58   6.79850   79.9269   6.79952   79.8884   235.25   \n",
       "24      11/1/2019 9:13   6.91352   79.9748   6.90981   79.8954   421.11   \n",
       "25      11/1/2019 8:57   6.05858   80.2003   6.05566   80.1810   210.58   \n",
       "26      11/1/2019 9:05   6.91029   79.8543   6.91185   79.8556   113.71   \n",
       "27      11/1/2019 9:20   6.88661   79.9321   6.87383   79.9263   106.80   \n",
       "28      11/1/2019 9:38   6.93268   79.8678   6.88760   79.8729   219.48   \n",
       "29      11/1/2019 9:25   7.15717   79.8726   7.18546   79.8996   178.26   \n",
       "...                ...       ...       ...       ...       ...      ...   \n",
       "17146  1/31/2020 19:57   6.98786   80.0158   7.09062   79.9916   579.12   \n",
       "17147  1/31/2020 19:24   6.84773   79.9272   6.85698   79.9270    70.75   \n",
       "17148  1/31/2020 19:43   6.82361   79.8708   6.84065   79.9005   193.80   \n",
       "17149  1/31/2020 19:53   7.46785   80.6227   7.54185   80.6218   310.88   \n",
       "17150  1/31/2020 20:43   6.93046   79.8903   6.91713   79.8910      NaN   \n",
       "17151  1/31/2020 19:51   7.48360   80.6235   7.50744   80.6125   139.03   \n",
       "17152  1/31/2020 20:52   6.98179   79.9307   6.86632   79.8851   667.64   \n",
       "17153  1/31/2020 20:25   6.86939   79.8811   6.88237   79.8693   115.22   \n",
       "17154  1/31/2020 20:28   6.83542   79.8692   6.85307   79.8625   106.52   \n",
       "17155  1/31/2020 20:42   6.85584   79.9079   6.83147   79.8825   214.93   \n",
       "17156  1/31/2020 20:41   6.86657   79.8726   6.86615   79.8592   131.09   \n",
       "17157  1/31/2020 20:37   6.97364   79.8702   6.96290   79.8677   141.66   \n",
       "17158  1/31/2020 20:35   6.86960   79.8641   6.85958   79.8714    96.70   \n",
       "17159  1/31/2020 20:56   7.02162   79.8993   7.03929   79.8882   181.05   \n",
       "17160  1/31/2020 20:52   7.27393   80.6102   7.26713   80.5761   196.24   \n",
       "17161  1/31/2020 21:05   7.22446   79.8494   7.30043   79.8863   362.96   \n",
       "17162  1/31/2020 21:02   6.96796   79.9047   6.96559   79.9652   398.64   \n",
       "17163  1/31/2020 21:01   6.98704   79.8800   6.95716   79.8619   181.78   \n",
       "17164  1/31/2020 21:08   6.00698   80.2534   6.01562   80.2764   210.74   \n",
       "17165  1/31/2020 21:17   7.29222   80.6338   7.33817   80.6449   214.28   \n",
       "17166  1/31/2020 21:53   7.31843   80.6249   7.31851   80.6249   208.70   \n",
       "17167  1/31/2020 21:49   7.09392   79.9947   7.05780   80.0010   210.26   \n",
       "17168  1/31/2020 22:02   6.87659   79.9975   6.87827   79.9883   105.42   \n",
       "17169  1/31/2020 22:41   6.91306   79.8737   6.88295   79.8790   821.29   \n",
       "17170  1/31/2020 22:06   6.87354   79.8799   6.86674   79.8768    81.23   \n",
       "17171  1/31/2020 22:21   7.29073   80.6367   7.28891   80.6557   198.26   \n",
       "17172  1/31/2020 23:43   6.90569   79.8516   6.95089   79.9389   581.23   \n",
       "17173  1/31/2020 23:25   7.09210   79.9000   7.10135   79.9017    76.20   \n",
       "17174  1/31/2020 23:53   6.94540   79.8768   6.93574   79.9010   133.31   \n",
       "17175  1/31/2020 23:53   6.90257   79.9557   6.90823   79.9374    98.57   \n",
       "\n",
       "           label  trip_duration  \n",
       "0        correct          714.0  \n",
       "1        correct          610.0  \n",
       "2        correct          946.0  \n",
       "3        correct          259.0  \n",
       "4        correct            NaN  \n",
       "5        correct         3113.0  \n",
       "6        correct          626.0  \n",
       "7        correct          826.0  \n",
       "8        correct          277.0  \n",
       "9        correct          908.0  \n",
       "10     incorrect          -66.0  \n",
       "11     incorrect         -119.0  \n",
       "12       correct         1647.0  \n",
       "13     incorrect         1221.0  \n",
       "14       correct          308.0  \n",
       "15       correct         2541.0  \n",
       "16       correct          840.0  \n",
       "17       correct          202.0  \n",
       "18       correct         1868.0  \n",
       "19       correct          664.0  \n",
       "20     incorrect         1241.0  \n",
       "21       correct         2517.0  \n",
       "22       correct           95.0  \n",
       "23       correct          707.0  \n",
       "24       correct         1211.0  \n",
       "25     incorrect          213.0  \n",
       "26     incorrect         -102.0  \n",
       "27       correct          364.0  \n",
       "28       correct         1135.0  \n",
       "29       correct          486.0  \n",
       "...          ...            ...  \n",
       "17146    correct         2164.0  \n",
       "17147    correct          177.0  \n",
       "17148    correct          953.0  \n",
       "17149    correct          805.0  \n",
       "17150  incorrect            NaN  \n",
       "17151    correct          343.0  \n",
       "17152    correct         2424.0  \n",
       "17153    correct          328.0  \n",
       "17154    correct          186.0  \n",
       "17155    correct          913.0  \n",
       "17156    correct          556.0  \n",
       "17157    correct          382.0  \n",
       "17158    correct          201.0  \n",
       "17159    correct          711.0  \n",
       "17160    correct          621.0  \n",
       "17161    correct         1193.0  \n",
       "17162    correct          999.0  \n",
       "17163    correct          671.0  \n",
       "17164    correct          651.0  \n",
       "17165    correct          756.0  \n",
       "17166  incorrect         -295.0  \n",
       "17167    correct          693.0  \n",
       "17168    correct          373.0  \n",
       "17169    correct         2230.0  \n",
       "17170    correct          192.0  \n",
       "17171    correct          294.0  \n",
       "17172    correct         1684.0  \n",
       "17173    correct          144.0  \n",
       "17174    correct          426.0  \n",
       "17175    correct          218.0  \n",
       "\n",
       "[17176 rows x 15 columns]>"
      ]
     },
     "execution_count": 13,
     "metadata": {},
     "output_type": "execute_result"
    }
   ],
   "source": [
    "df.head"
   ]
  },
  {
   "cell_type": "code",
   "execution_count": 23,
   "metadata": {},
   "outputs": [
    {
     "name": "stdout",
     "output_type": "stream",
     "text": [
      "202\n",
      "0\n"
     ]
    }
   ],
   "source": [
    "print(df['duration'].isnull().values.sum())\n",
    "\n",
    "test_df = pd.read_csv('./data/test.csv')\n",
    "\n",
    "# print(test_df['duration'].isnull().values.sum())"
   ]
  },
  {
   "cell_type": "code",
   "execution_count": 24,
   "metadata": {},
   "outputs": [
    {
     "name": "stdout",
     "output_type": "stream",
     "text": [
      "0\n"
     ]
    }
   ],
   "source": [
    "# remove records with missing durations\n",
    "df = df.dropna(subset=['duration', 'fare'])\n",
    "print(df['duration'].isnull().values.sum())"
   ]
  },
  {
   "cell_type": "code",
   "execution_count": 39,
   "metadata": {},
   "outputs": [],
   "source": [
    "df['trip_duration'] = df['duration']- (df['meter_waiting_till_pickup'] + df['meter_waiting'])\n",
    "test_df['trip_duration'] = test_df['duration']- (test_df['meter_waiting_till_pickup'] + test_df['meter_waiting'])\n",
    "# print(df.head())\n"
   ]
  },
  {
   "cell_type": "code",
   "execution_count": 64,
   "metadata": {},
   "outputs": [],
   "source": [
    "df['trip_fair'] = df['fare'] -  (df['additional_fare'] + df['meter_waiting_fare'])\n",
    "test_df['trip_fair'] = test_df['fare'] -  (test_df['additional_fare'] + test_df['meter_waiting_fare'])"
   ]
  },
  {
   "cell_type": "code",
   "execution_count": 34,
   "metadata": {},
   "outputs": [
    {
     "name": "stdout",
     "output_type": "stream",
     "text": [
      "0\n"
     ]
    }
   ],
   "source": [
    "print(df['meter_waiting_fare'].isnull().values.sum())"
   ]
  },
  {
   "cell_type": "code",
   "execution_count": 35,
   "metadata": {},
   "outputs": [],
   "source": [
    "from sklearn.preprocessing import LabelEncoder\n",
    "from sklearn.preprocessing import StandardScaler\n",
    "from sklearn import svm"
   ]
  },
  {
   "cell_type": "code",
   "execution_count": 46,
   "metadata": {},
   "outputs": [],
   "source": [
    "#split into data and label\n",
    "Y = df['label']\n",
    "X = df.drop(columns=[ 'label', 'pickup_time', 'drop_time'])\n",
    "# print(X.head())\n",
    "labelencoder_Y = LabelEncoder()\n",
    "Y = labelencoder_Y.fit_transform(Y)"
   ]
  },
  {
   "cell_type": "code",
   "execution_count": 54,
   "metadata": {},
   "outputs": [],
   "source": [
    "X_test = test_df\n",
    "X_test = X_test.drop(columns=[ 'pickup_time', 'drop_time' ])"
   ]
  },
  {
   "cell_type": "code",
   "execution_count": 70,
   "metadata": {},
   "outputs": [
    {
     "ename": "ValueError",
     "evalue": "Input contains NaN, infinity or a value too large for dtype('float64').",
     "output_type": "error",
     "traceback": [
      "\u001b[1;31m---------------------------------------------------------------------------\u001b[0m",
      "\u001b[1;31mValueError\u001b[0m                                Traceback (most recent call last)",
      "\u001b[1;32m<ipython-input-70-76b5ff669abc>\u001b[0m in \u001b[0;36m<module>\u001b[1;34m()\u001b[0m\n\u001b[0;32m     11\u001b[0m \u001b[1;33m\u001b[0m\u001b[0m\n\u001b[0;32m     12\u001b[0m \u001b[1;31m# carry out testing\u001b[0m\u001b[1;33m\u001b[0m\u001b[1;33m\u001b[0m\u001b[0m\n\u001b[1;32m---> 13\u001b[1;33m \u001b[0mY_pred\u001b[0m \u001b[1;33m=\u001b[0m \u001b[0mSVMclassifier\u001b[0m\u001b[1;33m.\u001b[0m\u001b[0mpredict\u001b[0m\u001b[1;33m(\u001b[0m\u001b[0mX_test\u001b[0m\u001b[1;33m)\u001b[0m\u001b[1;33m\u001b[0m\u001b[0m\n\u001b[0m\u001b[0;32m     14\u001b[0m \u001b[1;33m\u001b[0m\u001b[0m\n",
      "\u001b[1;32m~\\AppData\\Roaming\\Python\\Python36\\site-packages\\sklearn\\svm\\_base.py\u001b[0m in \u001b[0;36mpredict\u001b[1;34m(self, X)\u001b[0m\n\u001b[0;32m    592\u001b[0m             \u001b[0my\u001b[0m \u001b[1;33m=\u001b[0m \u001b[0mnp\u001b[0m\u001b[1;33m.\u001b[0m\u001b[0margmax\u001b[0m\u001b[1;33m(\u001b[0m\u001b[0mself\u001b[0m\u001b[1;33m.\u001b[0m\u001b[0mdecision_function\u001b[0m\u001b[1;33m(\u001b[0m\u001b[0mX\u001b[0m\u001b[1;33m)\u001b[0m\u001b[1;33m,\u001b[0m \u001b[0maxis\u001b[0m\u001b[1;33m=\u001b[0m\u001b[1;36m1\u001b[0m\u001b[1;33m)\u001b[0m\u001b[1;33m\u001b[0m\u001b[0m\n\u001b[0;32m    593\u001b[0m         \u001b[1;32melse\u001b[0m\u001b[1;33m:\u001b[0m\u001b[1;33m\u001b[0m\u001b[0m\n\u001b[1;32m--> 594\u001b[1;33m             \u001b[0my\u001b[0m \u001b[1;33m=\u001b[0m \u001b[0msuper\u001b[0m\u001b[1;33m(\u001b[0m\u001b[1;33m)\u001b[0m\u001b[1;33m.\u001b[0m\u001b[0mpredict\u001b[0m\u001b[1;33m(\u001b[0m\u001b[0mX\u001b[0m\u001b[1;33m)\u001b[0m\u001b[1;33m\u001b[0m\u001b[0m\n\u001b[0m\u001b[0;32m    595\u001b[0m         \u001b[1;32mreturn\u001b[0m \u001b[0mself\u001b[0m\u001b[1;33m.\u001b[0m\u001b[0mclasses_\u001b[0m\u001b[1;33m.\u001b[0m\u001b[0mtake\u001b[0m\u001b[1;33m(\u001b[0m\u001b[0mnp\u001b[0m\u001b[1;33m.\u001b[0m\u001b[0masarray\u001b[0m\u001b[1;33m(\u001b[0m\u001b[0my\u001b[0m\u001b[1;33m,\u001b[0m \u001b[0mdtype\u001b[0m\u001b[1;33m=\u001b[0m\u001b[0mnp\u001b[0m\u001b[1;33m.\u001b[0m\u001b[0mintp\u001b[0m\u001b[1;33m)\u001b[0m\u001b[1;33m)\u001b[0m\u001b[1;33m\u001b[0m\u001b[0m\n\u001b[0;32m    596\u001b[0m \u001b[1;33m\u001b[0m\u001b[0m\n",
      "\u001b[1;32m~\\AppData\\Roaming\\Python\\Python36\\site-packages\\sklearn\\svm\\_base.py\u001b[0m in \u001b[0;36mpredict\u001b[1;34m(self, X)\u001b[0m\n\u001b[0;32m    313\u001b[0m         \u001b[0my_pred\u001b[0m \u001b[1;33m:\u001b[0m \u001b[0marray\u001b[0m\u001b[1;33m,\u001b[0m \u001b[0mshape\u001b[0m \u001b[1;33m(\u001b[0m\u001b[0mn_samples\u001b[0m\u001b[1;33m,\u001b[0m\u001b[1;33m)\u001b[0m\u001b[1;33m\u001b[0m\u001b[0m\n\u001b[0;32m    314\u001b[0m         \"\"\"\n\u001b[1;32m--> 315\u001b[1;33m         \u001b[0mX\u001b[0m \u001b[1;33m=\u001b[0m \u001b[0mself\u001b[0m\u001b[1;33m.\u001b[0m\u001b[0m_validate_for_predict\u001b[0m\u001b[1;33m(\u001b[0m\u001b[0mX\u001b[0m\u001b[1;33m)\u001b[0m\u001b[1;33m\u001b[0m\u001b[0m\n\u001b[0m\u001b[0;32m    316\u001b[0m         \u001b[0mpredict\u001b[0m \u001b[1;33m=\u001b[0m \u001b[0mself\u001b[0m\u001b[1;33m.\u001b[0m\u001b[0m_sparse_predict\u001b[0m \u001b[1;32mif\u001b[0m \u001b[0mself\u001b[0m\u001b[1;33m.\u001b[0m\u001b[0m_sparse\u001b[0m \u001b[1;32melse\u001b[0m \u001b[0mself\u001b[0m\u001b[1;33m.\u001b[0m\u001b[0m_dense_predict\u001b[0m\u001b[1;33m\u001b[0m\u001b[0m\n\u001b[0;32m    317\u001b[0m         \u001b[1;32mreturn\u001b[0m \u001b[0mpredict\u001b[0m\u001b[1;33m(\u001b[0m\u001b[0mX\u001b[0m\u001b[1;33m)\u001b[0m\u001b[1;33m\u001b[0m\u001b[0m\n",
      "\u001b[1;32m~\\AppData\\Roaming\\Python\\Python36\\site-packages\\sklearn\\svm\\_base.py\u001b[0m in \u001b[0;36m_validate_for_predict\u001b[1;34m(self, X)\u001b[0m\n\u001b[0;32m    445\u001b[0m \u001b[1;33m\u001b[0m\u001b[0m\n\u001b[0;32m    446\u001b[0m         X = check_array(X, accept_sparse='csr', dtype=np.float64, order=\"C\",\n\u001b[1;32m--> 447\u001b[1;33m                         accept_large_sparse=False)\n\u001b[0m\u001b[0;32m    448\u001b[0m         \u001b[1;32mif\u001b[0m \u001b[0mself\u001b[0m\u001b[1;33m.\u001b[0m\u001b[0m_sparse\u001b[0m \u001b[1;32mand\u001b[0m \u001b[1;32mnot\u001b[0m \u001b[0msp\u001b[0m\u001b[1;33m.\u001b[0m\u001b[0misspmatrix\u001b[0m\u001b[1;33m(\u001b[0m\u001b[0mX\u001b[0m\u001b[1;33m)\u001b[0m\u001b[1;33m:\u001b[0m\u001b[1;33m\u001b[0m\u001b[0m\n\u001b[0;32m    449\u001b[0m             \u001b[0mX\u001b[0m \u001b[1;33m=\u001b[0m \u001b[0msp\u001b[0m\u001b[1;33m.\u001b[0m\u001b[0mcsr_matrix\u001b[0m\u001b[1;33m(\u001b[0m\u001b[0mX\u001b[0m\u001b[1;33m)\u001b[0m\u001b[1;33m\u001b[0m\u001b[0m\n",
      "\u001b[1;32m~\\AppData\\Roaming\\Python\\Python36\\site-packages\\sklearn\\utils\\validation.py\u001b[0m in \u001b[0;36mcheck_array\u001b[1;34m(array, accept_sparse, accept_large_sparse, dtype, order, copy, force_all_finite, ensure_2d, allow_nd, ensure_min_samples, ensure_min_features, warn_on_dtype, estimator)\u001b[0m\n\u001b[0;32m    576\u001b[0m         \u001b[1;32mif\u001b[0m \u001b[0mforce_all_finite\u001b[0m\u001b[1;33m:\u001b[0m\u001b[1;33m\u001b[0m\u001b[0m\n\u001b[0;32m    577\u001b[0m             _assert_all_finite(array,\n\u001b[1;32m--> 578\u001b[1;33m                                allow_nan=force_all_finite == 'allow-nan')\n\u001b[0m\u001b[0;32m    579\u001b[0m \u001b[1;33m\u001b[0m\u001b[0m\n\u001b[0;32m    580\u001b[0m     \u001b[1;32mif\u001b[0m \u001b[0mensure_min_samples\u001b[0m \u001b[1;33m>\u001b[0m \u001b[1;36m0\u001b[0m\u001b[1;33m:\u001b[0m\u001b[1;33m\u001b[0m\u001b[0m\n",
      "\u001b[1;32m~\\AppData\\Roaming\\Python\\Python36\\site-packages\\sklearn\\utils\\validation.py\u001b[0m in \u001b[0;36m_assert_all_finite\u001b[1;34m(X, allow_nan, msg_dtype)\u001b[0m\n\u001b[0;32m     58\u001b[0m                     \u001b[0mmsg_err\u001b[0m\u001b[1;33m.\u001b[0m\u001b[0mformat\u001b[0m\u001b[1;33m\u001b[0m\u001b[0m\n\u001b[0;32m     59\u001b[0m                     (type_err,\n\u001b[1;32m---> 60\u001b[1;33m                      msg_dtype if msg_dtype is not None else X.dtype)\n\u001b[0m\u001b[0;32m     61\u001b[0m             )\n\u001b[0;32m     62\u001b[0m     \u001b[1;31m# for object dtype data, we only check for NaNs (GH-13254)\u001b[0m\u001b[1;33m\u001b[0m\u001b[1;33m\u001b[0m\u001b[0m\n",
      "\u001b[1;31mValueError\u001b[0m: Input contains NaN, infinity or a value too large for dtype('float64')."
     ]
    }
   ],
   "source": [
    "#Feature Scaling\n",
    "sc = StandardScaler()\n",
    "X_train = sc.fit_transform(X)\n",
    "X_test = sc.transform(X_test)\n",
    "\n",
    "\n",
    "SVMclassifier = svm.SVC(kernel='linear') # Linear Kernel\n",
    "    \n",
    "#Train the model using the training sets\n",
    "SVMclassifier.fit(X_train, Y)\n",
    " \n",
    "# carry out testing\n",
    "Y_pred = SVMclassifier.predict(X_test)\n",
    "\n",
    "    "
   ]
  },
  {
   "cell_type": "code",
   "execution_count": 72,
   "metadata": {},
   "outputs": [
    {
     "name": "stdout",
     "output_type": "stream",
     "text": [
      "Index(['tripid', 'additional_fare', 'duration', 'meter_waiting',\n",
      "       'meter_waiting_fare', 'meter_waiting_till_pickup', 'pick_lat',\n",
      "       'pick_lon', 'drop_lat', 'drop_lon', 'fare', 'trip_duration',\n",
      "       'trip_fair'],\n",
      "      dtype='object')\n",
      "0\n",
      "0\n"
     ]
    }
   ],
   "source": [
    "print(X.columns)\n",
    "print(test_df['trip_fair'].isnull().values.sum())\n",
    "print(X['trip_fair'].isnull().values.sum())"
   ]
  },
  {
   "cell_type": "code",
   "execution_count": 73,
   "metadata": {},
   "outputs": [
    {
     "ename": "NameError",
     "evalue": "name 'Y_pred' is not defined",
     "output_type": "error",
     "traceback": [
      "\u001b[1;31m---------------------------------------------------------------------------\u001b[0m",
      "\u001b[1;31mNameError\u001b[0m                                 Traceback (most recent call last)",
      "\u001b[1;32m<ipython-input-73-d7ed860d9da9>\u001b[0m in \u001b[0;36m<module>\u001b[1;34m()\u001b[0m\n\u001b[0;32m     15\u001b[0m \u001b[1;33m\u001b[0m\u001b[0m\n\u001b[0;32m     16\u001b[0m \u001b[1;33m\u001b[0m\u001b[0m\n\u001b[1;32m---> 17\u001b[1;33m \u001b[0mwrite_output\u001b[0m\u001b[1;33m(\u001b[0m\u001b[0mY_pred\u001b[0m\u001b[1;33m)\u001b[0m\u001b[1;33m\u001b[0m\u001b[0m\n\u001b[0m",
      "\u001b[1;31mNameError\u001b[0m: name 'Y_pred' is not defined"
     ]
    }
   ],
   "source": [
    "def write_output(Y_prediction):\n",
    "    with open('sampleSubmission.csv', 'w', newline='') as csvfile:\n",
    "        fieldnames = ['tripid', 'prediction']\n",
    "        writer = csv.DictWriter(csvfile, fieldnames=fieldnames)\n",
    "\n",
    "        writer.writeheader()\n",
    "        line = 1\n",
    "    \n",
    "        for w in Y_prediction:\n",
    "            output = 1\n",
    "            if (w == 'incorrect'):\n",
    "                output = 0\n",
    "            writer.writerow({'tripid': line, 'prediction': output})\n",
    "            line = line+1\n",
    "\n",
    "\n",
    "write_output(Y_pred) "
   ]
  }
 ],
 "metadata": {
  "kernelspec": {
   "display_name": "Python 3",
   "language": "python",
   "name": "python3"
  },
  "language_info": {
   "codemirror_mode": {
    "name": "ipython",
    "version": 3
   },
   "file_extension": ".py",
   "mimetype": "text/x-python",
   "name": "python",
   "nbconvert_exporter": "python",
   "pygments_lexer": "ipython3",
   "version": "3.6.4"
  }
 },
 "nbformat": 4,
 "nbformat_minor": 2
}
